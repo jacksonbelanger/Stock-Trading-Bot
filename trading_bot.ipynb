{
 "cells": [
  {
   "cell_type": "code",
   "execution_count": null,
   "id": "430050df",
   "metadata": {},
   "outputs": [],
   "source": [
    "import pandas as pd\n",
    "import yfinance as yf\n",
    "import pandas_ta as ta\n",
    "\n",
    "import numpy as np\n",
    "import plotly.graph_objects as go\n",
    "from plotly.subplots import make_subplots\n",
    "from datetime import datetime\n",
    "\n",
    "from backtesting import Strategy\n",
    "from backtesting import Backtest"
   ]
  },
  {
   "cell_type": "code",
   "execution_count": null,
   "id": "4f8801aa",
   "metadata": {},
   "outputs": [],
   "source": [
    "# Read in SPY data from last 18 years\n",
    "dfSPY=yf.download(\"SPY\",start='2005-01-01', end='2023-07-31')\n",
    "dfSPY.head()\n",
    "\n",
    "# Calculate Simple Moving Average and Relative Strength Index and add to dataframe\n",
    "dfSPY['SMA']=ta.sma(dfSPY.Close, length=200)\n",
    "dfSPY['RSI']=ta.rsi(dfSPY.Close, length=4)\n",
    "\n",
    "# Add Bollinger Band values (upper/lower) to the dataframe\n",
    "my_bbands = ta.bbands(dfSPY.Close, length=20, std=2.5)\n",
    "dfSPY=dfSPY.join(my_bbands)\n",
    "\n",
    "# Remove rows with no data on 200 day moving average\n",
    "dfSPY.dropna(inplace=True)\n",
    "dfSPY.reset_index(inplace=True)"
   ]
  },
  {
   "cell_type": "code",
   "execution_count": null,
   "id": "4e4c1b32",
   "metadata": {},
   "outputs": [],
   "source": [
    "# Function to add SMA trend signal\n",
    "def addsmasignal(df, backcandles):\n",
    "    smasignal = [0]*len(df)\n",
    "    for row in range(backcandles, len(df)):\n",
    "        upt = 1\n",
    "        dnt = 1\n",
    "        for i in range(row-backcandles, row+1):\n",
    "            if df.High[i]>=df.SMA[i]:\n",
    "                dnt=0\n",
    "            if df.Low[i]<=df.SMA[i]:\n",
    "                upt=0\n",
    "        if upt==1 and dnt==1:\n",
    "            smasignal[row]=3\n",
    "        elif upt==1:\n",
    "            smasignal[row]=2\n",
    "        elif dnt==1:\n",
    "            smasignal[row]=1\n",
    "    df['SMASignal'] = smasignal\n",
    "\n",
    "addsmasignal(dfSPY, 5)"
   ]
  },
  {
   "cell_type": "code",
   "execution_count": null,
   "id": "22bfa89f",
   "metadata": {},
   "outputs": [],
   "source": [
    "# Add orders to dataframe\n",
    "def addorderslimit(df):\n",
    "    ordersignal=[0]*len(df)\n",
    "    for i in range(0, len(df)):\n",
    "        if (df.SMASignal[i]==2 and df.Close[i]<=df['BBL_20_2.5'][i]) or (df.SMASignal[i]==1 and df.Close[i]>=df['BBU_20_2.5'][i]):\n",
    "            ordersignal[i]=df.Close[i]\n",
    "    df['ordersignal']=ordersignal\n",
    "    \n",
    "addorderslimit(dfSPY)\n",
    "\n",
    "dfSPY[dfSPY['ordersignal'] > 0]"
   ]
  },
  {
   "attachments": {},
   "cell_type": "markdown",
   "id": "e7370d20",
   "metadata": {},
   "source": [
    "# Visualization"
   ]
  },
  {
   "cell_type": "code",
   "execution_count": null,
   "id": "670a69f8",
   "metadata": {},
   "outputs": [],
   "source": [
    "def pointposbreak(x):\n",
    "    if x['ordersignal']!=0:\n",
    "        return x['ordersignal']\n",
    "    else:\n",
    "        return np.nan\n",
    "dfSPY['pointposbreak'] = dfSPY.apply(lambda row: pointposbreak(row), axis=1)\n",
    "\n",
    "dfpl = dfSPY[:].copy()\n",
    "def SIGNAL():\n",
    "    return dfpl.ordersignal"
   ]
  },
  {
   "cell_type": "code",
   "execution_count": null,
   "id": "6fe91410",
   "metadata": {},
   "outputs": [],
   "source": [
    "# Backtesting\n",
    "class MyStrat(Strategy):\n",
    "    initsize = 0.99\n",
    "    ordertime=[]\n",
    "    def init(self):\n",
    "        super().init()\n",
    "        self.signal = self.I(SIGNAL)\n",
    "\n",
    "    def next(self):\n",
    "        super().next()\n",
    "        \n",
    "        for j in range(0, len(self.orders)):\n",
    "            if self.data.index[-1]-self.ordertime[0]>5:\n",
    "                self.orders[0].cancel()\n",
    "                self.ordertime.pop(0)   \n",
    "            \n",
    "        if len(self.trades)>0:\n",
    "            if self.data.index[-1]-self.trades[-1].entry_time>=10:\n",
    "                self.trades[-1].close()\n",
    "            \n",
    "            if self.trades[-1].is_long and self.data.RSI[-1]>=50:\n",
    "                self.trades[-1].close()\n",
    "            elif self.trades[-1].is_short and self.data.RSI[-1]<=50:\n",
    "                self.trades[-1].close()\n",
    "        \n",
    "        if self.signal!=0 and len(self.trades)==0 and self.data.SMASignal==2:\n",
    "            # Cancel previous orders\n",
    "            for j in range(0, len(self.orders)):\n",
    "                self.orders[0].cancel()\n",
    "                self.ordertime.pop(0)\n",
    "            # Add replacement order\n",
    "            self.buy(sl=self.signal/2, limit=self.signal, size=self.initsize)\n",
    "            self.ordertime.append(self.data.index[-1])\n",
    "        \n",
    "        elif self.signal!=0 and len(self.trades)==0 and self.data.SMASignal==1:\n",
    "            # Cancel previous orders\n",
    "            for j in range(0, len(self.orders)):\n",
    "                self.orders[0].cancel()\n",
    "                self.ordertime.pop(0)\n",
    "            # Add replacement order\n",
    "            self.sell(sl=self.signal*2, limit=self.signal, size=self.initsize)\n",
    "            self.ordertime.append(self.data.index[-1])\n",
    "\n",
    "bt = Backtest(dfpl, MyStrat, cash=10000, margin=1/10, commission=.00)\n",
    "stat = bt.run()\n",
    "stat"
   ]
  },
  {
   "cell_type": "code",
   "execution_count": null,
   "id": "7cdef1eb",
   "metadata": {
    "scrolled": true
   },
   "outputs": [],
   "source": [
    "bt.plot(show_legend=False)"
   ]
  }
 ],
 "metadata": {
  "kernelspec": {
   "display_name": "Python 3 (ipykernel)",
   "language": "python",
   "name": "python3"
  },
  "language_info": {
   "codemirror_mode": {
    "name": "ipython",
    "version": 3
   },
   "file_extension": ".py",
   "mimetype": "text/x-python",
   "name": "python",
   "nbconvert_exporter": "python",
   "pygments_lexer": "ipython3",
   "version": "3.11.6"
  }
 },
 "nbformat": 4,
 "nbformat_minor": 5
}
